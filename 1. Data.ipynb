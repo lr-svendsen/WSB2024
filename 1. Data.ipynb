{
 "cells": [
  {
   "cell_type": "markdown",
   "metadata": {},
   "source": [
    "# "
   ]
  },
  {
   "cell_type": "markdown",
   "metadata": {},
   "source": [
    "# 1. Data\n",
    "In this ipynb file, we will do the following:\n",
    "1. Data Cleaning/Processing for WSB reddit posts\n",
    "2. Check token count for the data\n",
    "3. Set up for prodigy annotation\n",
    "4. Gather the annotated data from Prodigy\n",
    "5. Make a wordcloud\n"
   ]
  },
  {
   "cell_type": "markdown",
   "metadata": {},
   "source": [
    "## Data Cleaning/Processing for WSB reddit posts"
   ]
  },
  {
   "cell_type": "code",
   "execution_count": 7,
   "metadata": {},
   "outputs": [],
   "source": [
    "# Import necessary packages\n",
    "import pandas as pd\n",
    "from wordcloud import WordCloud\n",
    "import matplotlib.pyplot as plt\n",
    "import re\n",
    "import emoji\n",
    "import nltk\n",
    "import json\n"
   ]
  },
  {
   "cell_type": "code",
   "execution_count": 9,
   "metadata": {},
   "outputs": [
    {
     "data": {
      "text/html": [
       "<div>\n",
       "<style scoped>\n",
       "    .dataframe tbody tr th:only-of-type {\n",
       "        vertical-align: middle;\n",
       "    }\n",
       "\n",
       "    .dataframe tbody tr th {\n",
       "        vertical-align: top;\n",
       "    }\n",
       "\n",
       "    .dataframe thead th {\n",
       "        text-align: right;\n",
       "    }\n",
       "</style>\n",
       "<table border=\"1\" class=\"dataframe\">\n",
       "  <thead>\n",
       "    <tr style=\"text-align: right;\">\n",
       "      <th></th>\n",
       "      <th>title</th>\n",
       "      <th>score</th>\n",
       "      <th>id</th>\n",
       "      <th>url</th>\n",
       "      <th>comms_num</th>\n",
       "      <th>created</th>\n",
       "      <th>body</th>\n",
       "      <th>timestamp</th>\n",
       "    </tr>\n",
       "  </thead>\n",
       "  <tbody>\n",
       "    <tr>\n",
       "      <th>0</th>\n",
       "      <td>It's not about the money, it's about sending a...</td>\n",
       "      <td>55</td>\n",
       "      <td>l6ulcx</td>\n",
       "      <td>https://v.redd.it/6j75regs72e61</td>\n",
       "      <td>6</td>\n",
       "      <td>1.611863e+09</td>\n",
       "      <td>NaN</td>\n",
       "      <td>2021-01-28 21:37:41</td>\n",
       "    </tr>\n",
       "    <tr>\n",
       "      <th>1</th>\n",
       "      <td>Math Professor Scott Steiner says the numbers ...</td>\n",
       "      <td>110</td>\n",
       "      <td>l6uibd</td>\n",
       "      <td>https://v.redd.it/ah50lyny62e61</td>\n",
       "      <td>23</td>\n",
       "      <td>1.611862e+09</td>\n",
       "      <td>NaN</td>\n",
       "      <td>2021-01-28 21:32:10</td>\n",
       "    </tr>\n",
       "    <tr>\n",
       "      <th>2</th>\n",
       "      <td>Exit the system</td>\n",
       "      <td>0</td>\n",
       "      <td>l6uhhn</td>\n",
       "      <td>https://www.reddit.com/r/wallstreetbets/commen...</td>\n",
       "      <td>47</td>\n",
       "      <td>1.611862e+09</td>\n",
       "      <td>The CEO of NASDAQ pushed to halt trading “to g...</td>\n",
       "      <td>2021-01-28 21:30:35</td>\n",
       "    </tr>\n",
       "    <tr>\n",
       "      <th>3</th>\n",
       "      <td>NEW SEC FILING FOR GME! CAN SOMEONE LESS RETAR...</td>\n",
       "      <td>29</td>\n",
       "      <td>l6ugk6</td>\n",
       "      <td>https://sec.report/Document/0001193125-21-019848/</td>\n",
       "      <td>74</td>\n",
       "      <td>1.611862e+09</td>\n",
       "      <td>NaN</td>\n",
       "      <td>2021-01-28 21:28:57</td>\n",
       "    </tr>\n",
       "    <tr>\n",
       "      <th>4</th>\n",
       "      <td>Not to distract from GME, just thought our AMC...</td>\n",
       "      <td>71</td>\n",
       "      <td>l6ufgy</td>\n",
       "      <td>https://i.redd.it/4h2sukb662e61.jpg</td>\n",
       "      <td>156</td>\n",
       "      <td>1.611862e+09</td>\n",
       "      <td>NaN</td>\n",
       "      <td>2021-01-28 21:26:56</td>\n",
       "    </tr>\n",
       "  </tbody>\n",
       "</table>\n",
       "</div>"
      ],
      "text/plain": [
       "                                               title  score      id  \\\n",
       "0  It's not about the money, it's about sending a...     55  l6ulcx   \n",
       "1  Math Professor Scott Steiner says the numbers ...    110  l6uibd   \n",
       "2                                    Exit the system      0  l6uhhn   \n",
       "3  NEW SEC FILING FOR GME! CAN SOMEONE LESS RETAR...     29  l6ugk6   \n",
       "4  Not to distract from GME, just thought our AMC...     71  l6ufgy   \n",
       "\n",
       "                                                 url  comms_num       created  \\\n",
       "0                    https://v.redd.it/6j75regs72e61          6  1.611863e+09   \n",
       "1                    https://v.redd.it/ah50lyny62e61         23  1.611862e+09   \n",
       "2  https://www.reddit.com/r/wallstreetbets/commen...         47  1.611862e+09   \n",
       "3  https://sec.report/Document/0001193125-21-019848/         74  1.611862e+09   \n",
       "4                https://i.redd.it/4h2sukb662e61.jpg        156  1.611862e+09   \n",
       "\n",
       "                                                body            timestamp  \n",
       "0                                                NaN  2021-01-28 21:37:41  \n",
       "1                                                NaN  2021-01-28 21:32:10  \n",
       "2  The CEO of NASDAQ pushed to halt trading “to g...  2021-01-28 21:30:35  \n",
       "3                                                NaN  2021-01-28 21:28:57  \n",
       "4                                                NaN  2021-01-28 21:26:56  "
      ]
     },
     "execution_count": 9,
     "metadata": {},
     "output_type": "execute_result"
    }
   ],
   "source": [
    "# Read data\n",
    "data = pd.read_csv('reddit_wsb.csv')\n",
    "\n",
    "# View first 5 rows\n",
    "data.head(5)\n"
   ]
  },
  {
   "cell_type": "code",
   "execution_count": 10,
   "metadata": {},
   "outputs": [
    {
     "data": {
      "text/html": [
       "<div>\n",
       "<style scoped>\n",
       "    .dataframe tbody tr th:only-of-type {\n",
       "        vertical-align: middle;\n",
       "    }\n",
       "\n",
       "    .dataframe tbody tr th {\n",
       "        vertical-align: top;\n",
       "    }\n",
       "\n",
       "    .dataframe thead th {\n",
       "        text-align: right;\n",
       "    }\n",
       "</style>\n",
       "<table border=\"1\" class=\"dataframe\">\n",
       "  <thead>\n",
       "    <tr style=\"text-align: right;\">\n",
       "      <th></th>\n",
       "      <th>text</th>\n",
       "      <th>created</th>\n",
       "    </tr>\n",
       "  </thead>\n",
       "  <tbody>\n",
       "    <tr>\n",
       "      <th>0</th>\n",
       "      <td>It's not about the money, it's about sending a message. 🚀💎🙌</td>\n",
       "      <td>1.611863e+09</td>\n",
       "    </tr>\n",
       "    <tr>\n",
       "      <th>1</th>\n",
       "      <td>Math Professor Scott Steiner says the numbers spell DISASTER for Gamestop shorts</td>\n",
       "      <td>1.611862e+09</td>\n",
       "    </tr>\n",
       "    <tr>\n",
       "      <th>2</th>\n",
       "      <td>Exit the system The CEO of NASDAQ pushed to halt trading “to give investors a chance to recalibr...</td>\n",
       "      <td>1.611862e+09</td>\n",
       "    </tr>\n",
       "    <tr>\n",
       "      <th>3</th>\n",
       "      <td>NEW SEC FILING FOR GME! CAN SOMEONE LESS RETARDED THAN ME PLEASE INTERPRET?</td>\n",
       "      <td>1.611862e+09</td>\n",
       "    </tr>\n",
       "    <tr>\n",
       "      <th>4</th>\n",
       "      <td>Not to distract from GME, just thought our AMC brothers should be aware of this</td>\n",
       "      <td>1.611862e+09</td>\n",
       "    </tr>\n",
       "  </tbody>\n",
       "</table>\n",
       "</div>"
      ],
      "text/plain": [
       "                                                                                                  text  \\\n",
       "0                                         It's not about the money, it's about sending a message. 🚀💎🙌    \n",
       "1                    Math Professor Scott Steiner says the numbers spell DISASTER for Gamestop shorts    \n",
       "2  Exit the system The CEO of NASDAQ pushed to halt trading “to give investors a chance to recalibr...   \n",
       "3                         NEW SEC FILING FOR GME! CAN SOMEONE LESS RETARDED THAN ME PLEASE INTERPRET?    \n",
       "4                     Not to distract from GME, just thought our AMC brothers should be aware of this    \n",
       "\n",
       "        created  \n",
       "0  1.611863e+09  \n",
       "1  1.611862e+09  \n",
       "2  1.611862e+09  \n",
       "3  1.611862e+09  \n",
       "4  1.611862e+09  "
      ]
     },
     "execution_count": 10,
     "metadata": {},
     "output_type": "execute_result"
    }
   ],
   "source": [
    "# Remove columns that are not needed\n",
    "data = data[['title', 'body', 'created']]\n",
    "\n",
    "# Combine title and body\n",
    "data['text'] = data['title'] + \" \" + data['body'].fillna('')\n",
    "\n",
    "data = data[['text', 'created']]\n",
    "\n",
    "#View first 5 rows\n",
    "pd.set_option('display.max_colwidth', 100)\n",
    "data.head(5)\n"
   ]
  },
  {
   "cell_type": "markdown",
   "metadata": {},
   "source": [
    "### Data Cleaning"
   ]
  },
  {
   "cell_type": "code",
   "execution_count": 11,
   "metadata": {},
   "outputs": [],
   "source": [
    "def clean_wsb_text(text, max_tokens=512):\n",
    "    \"\"\"\n",
    "    Cleans and preprocesses WSB posts.\n",
    "    \n",
    "    \"\"\"\n",
    "\n",
    "    # Step 1: Remove URLs\n",
    "    text = re.sub(r\"http\\S+|www\\S+|https\\S+\", \"\", text)\n",
    "\n",
    "    # Step 2: Lowercase everything\n",
    "    text = text.lower()\n",
    "\n",
    "    # Step 3: Remove Reddit-specific formatting (e.g., *, ^, `)\n",
    "    text = re.sub(r\"\\*|\\^|`\", \"\", text)\n",
    "\n",
    "    # Step 4: Preserve stock symbols (i.e. $GME)\n",
    "    text = re.sub(r\"\\$\\w+\", lambda x: x.group(0).upper(), text)\n",
    "\n",
    "    # Step 5: Replace emojis with text equivalent\n",
    "    text = emoji.demojize(text, delimiters=(\"\", \"\"))\n",
    "\n",
    "    # Step 6: Cap Punctuation to 3 or less\n",
    "    text = re.sub(r\"([!?])\\1{3,}\", r\"\\1\\1\\1\", text)\n",
    "\n",
    "    # Step 7: Remove non-alphanumeric characters (except relevant ones)\n",
    "    text = re.sub(r\"[^a-zA-Z0-9\\s\\$#!?]\", \"\", text)\n",
    "\n",
    "    # Step 8: Truncate to the maximum number of tokens\n",
    "    text = \" \".join(text.split()[:max_tokens])\n",
    "\n",
    "    return text"
   ]
  },
  {
   "cell_type": "code",
   "execution_count": 12,
   "metadata": {},
   "outputs": [
    {
     "data": {
      "text/html": [
       "<div>\n",
       "<style scoped>\n",
       "    .dataframe tbody tr th:only-of-type {\n",
       "        vertical-align: middle;\n",
       "    }\n",
       "\n",
       "    .dataframe tbody tr th {\n",
       "        vertical-align: top;\n",
       "    }\n",
       "\n",
       "    .dataframe thead th {\n",
       "        text-align: right;\n",
       "    }\n",
       "</style>\n",
       "<table border=\"1\" class=\"dataframe\">\n",
       "  <thead>\n",
       "    <tr style=\"text-align: right;\">\n",
       "      <th></th>\n",
       "      <th>text</th>\n",
       "      <th>created</th>\n",
       "      <th>text_cleaned</th>\n",
       "    </tr>\n",
       "  </thead>\n",
       "  <tbody>\n",
       "    <tr>\n",
       "      <th>0</th>\n",
       "      <td>It's not about the money, it's about sending a message. 🚀💎🙌</td>\n",
       "      <td>1.611863e+09</td>\n",
       "      <td>its not about the money its about sending a message rocketgemstoneraisinghands</td>\n",
       "    </tr>\n",
       "    <tr>\n",
       "      <th>1</th>\n",
       "      <td>Math Professor Scott Steiner says the numbers spell DISASTER for Gamestop shorts</td>\n",
       "      <td>1.611862e+09</td>\n",
       "      <td>math professor scott steiner says the numbers spell disaster for gamestop shorts</td>\n",
       "    </tr>\n",
       "    <tr>\n",
       "      <th>2</th>\n",
       "      <td>Exit the system The CEO of NASDAQ pushed to halt trading “to give investors a chance to recalibr...</td>\n",
       "      <td>1.611862e+09</td>\n",
       "      <td>exit the system the ceo of nasdaq pushed to halt trading to give investors a chance to recalibra...</td>\n",
       "    </tr>\n",
       "    <tr>\n",
       "      <th>3</th>\n",
       "      <td>NEW SEC FILING FOR GME! CAN SOMEONE LESS RETARDED THAN ME PLEASE INTERPRET?</td>\n",
       "      <td>1.611862e+09</td>\n",
       "      <td>new sec filing for gme! can someone less retarded than me please interpret?</td>\n",
       "    </tr>\n",
       "    <tr>\n",
       "      <th>4</th>\n",
       "      <td>Not to distract from GME, just thought our AMC brothers should be aware of this</td>\n",
       "      <td>1.611862e+09</td>\n",
       "      <td>not to distract from gme just thought our amc brothers should be aware of this</td>\n",
       "    </tr>\n",
       "  </tbody>\n",
       "</table>\n",
       "</div>"
      ],
      "text/plain": [
       "                                                                                                  text  \\\n",
       "0                                         It's not about the money, it's about sending a message. 🚀💎🙌    \n",
       "1                    Math Professor Scott Steiner says the numbers spell DISASTER for Gamestop shorts    \n",
       "2  Exit the system The CEO of NASDAQ pushed to halt trading “to give investors a chance to recalibr...   \n",
       "3                         NEW SEC FILING FOR GME! CAN SOMEONE LESS RETARDED THAN ME PLEASE INTERPRET?    \n",
       "4                     Not to distract from GME, just thought our AMC brothers should be aware of this    \n",
       "\n",
       "        created  \\\n",
       "0  1.611863e+09   \n",
       "1  1.611862e+09   \n",
       "2  1.611862e+09   \n",
       "3  1.611862e+09   \n",
       "4  1.611862e+09   \n",
       "\n",
       "                                                                                          text_cleaned  \n",
       "0                       its not about the money its about sending a message rocketgemstoneraisinghands  \n",
       "1                     math professor scott steiner says the numbers spell disaster for gamestop shorts  \n",
       "2  exit the system the ceo of nasdaq pushed to halt trading to give investors a chance to recalibra...  \n",
       "3                          new sec filing for gme! can someone less retarded than me please interpret?  \n",
       "4                       not to distract from gme just thought our amc brothers should be aware of this  "
      ]
     },
     "execution_count": 12,
     "metadata": {},
     "output_type": "execute_result"
    }
   ],
   "source": [
    "# Apply cleaning function to the data\n",
    "data['text_cleaned'] = data['text'].apply(clean_wsb_text)\n",
    "\n",
    "#View first 5 rows\n",
    "data.head(5)\n"
   ]
  },
  {
   "cell_type": "code",
   "execution_count": 34,
   "metadata": {},
   "outputs": [],
   "source": [
    "# Export to CSV\n",
    "data.to_csv('reddit_wsb_cleaned.csv', index=False)\n"
   ]
  },
  {
   "cell_type": "markdown",
   "metadata": {},
   "source": [
    "## Check token count for the data\n",
    "\n"
   ]
  },
  {
   "cell_type": "code",
   "execution_count": 14,
   "metadata": {},
   "outputs": [
    {
     "name": "stdout",
     "output_type": "stream",
     "text": [
      "95th percentile: 524.70\n"
     ]
    },
    {
     "data": {
      "image/png": "[encoded data removed]",
      "text/plain": [
       "<Figure size 1000x600 with 1 Axes>"
      ]
     },
     "metadata": {},
     "output_type": "display_data"
    }
   ],
   "source": [
    "# Calculate token counts\n",
    "token_counts = data['text'].str.split().str.len()\n",
    "\n",
    "# Basic statistics\n",
    "print(f\"95th percentile: {token_counts.quantile(0.95):.2f}\")\n",
    "\n",
    "# Plot\n",
    "import matplotlib.pyplot as plt\n",
    "\n",
    "plt.figure(figsize=(10, 6))\n",
    "plt.hist(token_counts[token_counts < token_counts.quantile(0.95)], bins=50)\n",
    "plt.title('Distribution of Token Counts (95th percentile)')\n",
    "plt.xlabel('Number of Tokens')\n",
    "plt.ylabel('Frequency')\n",
    "plt.show()"
   ]
  },
  {
   "cell_type": "markdown",
   "metadata": {},
   "source": [
    "## Set up for Prodigy (2000 samples)"
   ]
  },
  {
   "cell_type": "code",
   "execution_count": 15,
   "metadata": {},
   "outputs": [
    {
     "name": "stdout",
     "output_type": "stream",
     "text": [
      "Subset saved for Prodigy!\n"
     ]
    }
   ],
   "source": [
    "# Read the previous data\n",
    "df = pd.read_csv('reddit_wsb_cleaned.csv').text_cleaned\n",
    "\n",
    "# Ensure text column exists\n",
    "if isinstance(df, pd.Series):\n",
    "    df = df.to_frame(name=\"text\")\n",
    "\n",
    "# Sample 2,000 rows\n",
    "sampled_df = df.sample(n=2000, random_state=42)\n",
    "\n",
    "# Convert to Prodigy format\n",
    "prodigy_data = [{\"text\": text} for text in sampled_df[\"text\"]]\n",
    "\n",
    "# Save to JSONL format for Prodigy\n",
    "with open(\"prodigy_input.jsonl\", \"w\") as f:\n",
    "    for entry in prodigy_data:\n",
    "        f.write(json.dumps(entry) + \"\\n\")\n",
    "\n",
    "print(\"Subset saved for Prodigy!\")\n"
   ]
  },
  {
   "cell_type": "markdown",
   "metadata": {},
   "source": [
    "## Gather the annotated data from Prodigy"
   ]
  },
  {
   "cell_type": "code",
   "execution_count": 17,
   "metadata": {},
   "outputs": [
    {
     "data": {
      "text/html": [
       "<div>\n",
       "<style scoped>\n",
       "    .dataframe tbody tr th:only-of-type {\n",
       "        vertical-align: middle;\n",
       "    }\n",
       "\n",
       "    .dataframe tbody tr th {\n",
       "        vertical-align: top;\n",
       "    }\n",
       "\n",
       "    .dataframe thead th {\n",
       "        text-align: right;\n",
       "    }\n",
       "</style>\n",
       "<table border=\"1\" class=\"dataframe\">\n",
       "  <thead>\n",
       "    <tr style=\"text-align: right;\">\n",
       "      <th></th>\n",
       "      <th>text</th>\n",
       "      <th>sentiment_label</th>\n",
       "    </tr>\n",
       "  </thead>\n",
       "  <tbody>\n",
       "    <tr>\n",
       "      <th>1</th>\n",
       "      <td>trading 212 wont give this retard an account says try later been like that all day they obvs don...</td>\n",
       "      <td>0</td>\n",
       "    </tr>\n",
       "    <tr>\n",
       "      <th>2</th>\n",
       "      <td>theyre saying we throttled but were higher avg than yesterday?? makes no sense gme rocketrocket</td>\n",
       "      <td>0</td>\n",
       "    </tr>\n",
       "    <tr>\n",
       "      <th>4</th>\n",
       "      <td>weed bet im holding for the next few months $ACB has been a dog but is poised for a comeback wai...</td>\n",
       "      <td>2</td>\n",
       "    </tr>\n",
       "    <tr>\n",
       "      <th>5</th>\n",
       "      <td>fuvk you all</td>\n",
       "      <td>0</td>\n",
       "    </tr>\n",
       "    <tr>\n",
       "      <th>6</th>\n",
       "      <td>cashapp jusr let me buy the fucking amc dip its the only one left buy like your life depends on ...</td>\n",
       "      <td>1</td>\n",
       "    </tr>\n",
       "    <tr>\n",
       "      <th>...</th>\n",
       "      <td>...</td>\n",
       "      <td>...</td>\n",
       "    </tr>\n",
       "    <tr>\n",
       "      <th>1985</th>\n",
       "      <td>jcpenny cpprq fuddy duddy store memes?</td>\n",
       "      <td>1</td>\n",
       "    </tr>\n",
       "    <tr>\n",
       "      <th>1986</th>\n",
       "      <td>do not sell weve always said no spiralnotepadwavinghandmediumlightskintone so dont start now im ...</td>\n",
       "      <td>2</td>\n",
       "    </tr>\n",
       "    <tr>\n",
       "      <th>1987</th>\n",
       "      <td>i dont have much to play with but im with you fellow retards to the moon rocketrocketrocket</td>\n",
       "      <td>2</td>\n",
       "    </tr>\n",
       "    <tr>\n",
       "      <th>1989</th>\n",
       "      <td>during a gold rush sell shovels michael scott</td>\n",
       "      <td>1</td>\n",
       "    </tr>\n",
       "    <tr>\n",
       "      <th>1990</th>\n",
       "      <td>marketwatch right now</td>\n",
       "      <td>1</td>\n",
       "    </tr>\n",
       "  </tbody>\n",
       "</table>\n",
       "<p>1781 rows × 2 columns</p>\n",
       "</div>"
      ],
      "text/plain": [
       "                                                                                                     text  \\\n",
       "1     trading 212 wont give this retard an account says try later been like that all day they obvs don...   \n",
       "2         theyre saying we throttled but were higher avg than yesterday?? makes no sense gme rocketrocket   \n",
       "4     weed bet im holding for the next few months $ACB has been a dog but is poised for a comeback wai...   \n",
       "5                                                                                            fuvk you all   \n",
       "6     cashapp jusr let me buy the fucking amc dip its the only one left buy like your life depends on ...   \n",
       "...                                                                                                   ...   \n",
       "1985                                                               jcpenny cpprq fuddy duddy store memes?   \n",
       "1986  do not sell weve always said no spiralnotepadwavinghandmediumlightskintone so dont start now im ...   \n",
       "1987          i dont have much to play with but im with you fellow retards to the moon rocketrocketrocket   \n",
       "1989                                                        during a gold rush sell shovels michael scott   \n",
       "1990                                                                                marketwatch right now   \n",
       "\n",
       "      sentiment_label  \n",
       "1                   0  \n",
       "2                   0  \n",
       "4                   2  \n",
       "5                   0  \n",
       "6                   1  \n",
       "...               ...  \n",
       "1985                1  \n",
       "1986                2  \n",
       "1987                2  \n",
       "1989                1  \n",
       "1990                1  \n",
       "\n",
       "[1781 rows x 2 columns]"
      ]
     },
     "execution_count": 17,
     "metadata": {},
     "output_type": "execute_result"
    }
   ],
   "source": [
    "# Load the Prodigy JSONL file\n",
    "with open(\"Prodigy/labeled_data.jsonl\", \"r\") as f:\n",
    "    data = [json.loads(line) for line in f]\n",
    "    \n",
    "    \n",
    "# Convert to DataFrame with error handling\n",
    "df_prodigy = pd.DataFrame({\n",
    "    \"text\": [item[\"text\"] for item in data],\n",
    "    \"sentiment_label\": [item.get(\"accept\", [None])[0] if item.get(\"accept\") else None for item in data]\n",
    "})\n",
    "\n",
    "# Map labels to numeric values\n",
    "label_mapping = {\"positive\": 2, \"neutral\": 1, \"negative\": 0}\n",
    "df_prodigy[\"sentiment_label\"] = df_prodigy[\"sentiment_label\"].map(label_mapping)\n",
    "\n",
    "# Drop rows with NaN in the sentiment_label column\n",
    "df_prodigy = df_prodigy.dropna(subset=[\"sentiment_label\"])\n",
    "\n",
    "# Convert labels to integers\n",
    "df_prodigy[\"sentiment_label\"] = df_prodigy[\"sentiment_label\"].astype(int)\n",
    "\n",
    "df_prodigy"
   ]
  },
  {
   "cell_type": "code",
   "execution_count": 19,
   "metadata": {},
   "outputs": [],
   "source": [
    "# Save the cleaned dataset\n",
    "df_prodigy.to_csv(\"cleaned_labeled_data.csv\", index=False)\n"
   ]
  },
  {
   "cell_type": "markdown",
   "metadata": {},
   "source": [
    "### Remove Annotated Data from Original Data"
   ]
  },
  {
   "cell_type": "code",
   "execution_count": 41,
   "metadata": {},
   "outputs": [
    {
     "name": "stdout",
     "output_type": "stream",
     "text": [
      "Original data size: 53187\n",
      "Annotated data size: 1781\n",
      "Remaining unlabeled data size: 51216\n"
     ]
    }
   ],
   "source": [
    "# Load the original cleaned dataset\n",
    "original_data = pd.read_csv(\"reddit_wsb_cleaned.csv\")\n",
    "\n",
    "# Create mask for rows that are not in the annotated data\n",
    "mask = ~original_data[\"text_cleaned\"].isin(df_prodigy[\"text\"].values)\n",
    "\n",
    "# Apply mask to get unlabeled data\n",
    "cleaned_unlabeled = original_data[mask]\n",
    "\n",
    "# Reset the index before saving\n",
    "cleaned_unlabeled = cleaned_unlabeled.reset_index(drop=True)\n",
    "\n",
    "# Save the cleaned dataset (only unlabeled data)\n",
    "cleaned_unlabeled.to_csv(\"cleaned_unlabeled.csv\", index=False)\n",
    "print(f\"Original data size: {len(original_data)}\")\n",
    "print(f\"Annotated data size: {len(df_prodigy)}\")\n",
    "print(f\"Remaining unlabeled data size: {len(cleaned_unlabeled)}\")"
   ]
  },
  {
   "cell_type": "markdown",
   "metadata": {},
   "source": [
    "## WordCloud"
   ]
  },
  {
   "cell_type": "code",
   "execution_count": 23,
   "metadata": {},
   "outputs": [],
   "source": [
    "# Read the CSV file\n",
    "df = pd.read_csv('cleaned_unlabeled.csv')\n",
    "\n",
    "# Combine all text into one string\n",
    "text = ' '.join(df['text'].astype(str))\n",
    "\n",
    "# Create and generate a word cloud image\n",
    "wordcloud = WordCloud(width=800, height=400, background_color='white').generate(text)\n",
    "\n",
    "# Display the word cloud\n",
    "#plt.figure(figsize=(20,10))\n",
    "#plt.imshow(wordcloud, interpolation='bilinear')\n",
    "#plt.axis('off')\n",
    "#plt.show()\n"
   ]
  },
  {
   "cell_type": "code",
   "execution_count": null,
   "metadata": {},
   "outputs": [],
   "source": []
  }
 ],
 "metadata": {
  "kernelspec": {
   "display_name": "DeepLearning",
   "language": "python",
   "name": "python3"
  },
  "language_info": {
   "codemirror_mode": {
    "name": "ipython",
    "version": 3
   },
   "file_extension": ".py",
   "mimetype": "text/x-python",
   "name": "python",
   "nbconvert_exporter": "python",
   "pygments_lexer": "ipython3",
   "version": "3.10.16"
  }
 },
 "nbformat": 4,
 "nbformat_minor": 2
}
