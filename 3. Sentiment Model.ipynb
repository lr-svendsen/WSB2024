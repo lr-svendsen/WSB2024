{
 "cells": [
  {
   "cell_type": "markdown",
   "metadata": {},
   "source": [
    "# Sentiment Model"
   ]
  },
  {
   "cell_type": "markdown",
   "metadata": {},
   "source": [
    "The sentiment model is built on 7 steps:\n",
    "1. Load the ProsusAI/finbert Model and Tokenizer\n",
    "2. Prepare the Annotated Dataset for Tokenization\n",
    "3. Define Training Arguments\n",
    "4. Initialize the Trainer\n",
    "5. Fine-Tune the Model\n",
    "6. Evaluate the Model on Validation Data\n",
    "7. Save the Model\n",
    "8. Inference\n",
    "\n",
    "\n"
   ]
  },
  {
   "cell_type": "markdown",
   "metadata": {},
   "source": [
    "### Step 1: Load the ProsusAI/finbert Model and Tokenizer"
   ]
  },
  {
   "cell_type": "code",
   "execution_count": 2,
   "metadata": {},
   "outputs": [
    {
     "name": "stderr",
     "output_type": "stream",
     "text": [
      "/opt/anaconda3/envs/PyTorch/lib/python3.11/site-packages/tqdm/auto.py:21: TqdmWarning: IProgress not found. Please update jupyter and ipywidgets. See https://ipywidgets.readthedocs.io/en/stable/user_install.html\n",
      "  from .autonotebook import tqdm as notebook_tqdm\n",
      "/opt/anaconda3/envs/PyTorch/lib/python3.11/site-packages/torchvision/io/image.py:14: UserWarning: Failed to load image Python extension: 'dlopen(/opt/anaconda3/envs/PyTorch/lib/python3.11/site-packages/torchvision/image.so, 0x0006): Library not loaded: @rpath/libjpeg.9.dylib\n",
      "  Referenced from: <EB3FF92A-5EB1-3EE8-AF8B-5923C1265422> /opt/anaconda3/envs/PyTorch/lib/python3.11/site-packages/torchvision/image.so\n",
      "  Reason: tried: '/opt/anaconda3/envs/PyTorch/lib/python3.11/site-packages/torchvision/../../../libjpeg.9.dylib' (no such file), '/opt/anaconda3/envs/PyTorch/lib/python3.11/site-packages/torchvision/../../../libjpeg.9.dylib' (no such file), '/opt/anaconda3/envs/PyTorch/lib/python3.11/lib-dynload/../../libjpeg.9.dylib' (no such file), '/opt/anaconda3/envs/PyTorch/bin/../lib/libjpeg.9.dylib' (no such file)'If you don't plan on using image functionality from `torchvision.io`, you can ignore this warning. Otherwise, there might be something wrong with your environment. Did you have `libjpeg` or `libpng` installed before building `torchvision` from source?\n",
      "  warn(\n"
     ]
    }
   ],
   "source": [
    "#All packages for entire notebook\n",
    "from transformers import AutoTokenizer, AutoModelForSequenceClassification, EarlyStoppingCallback\n",
    "import torch\n",
    "import pandas as pd\n",
    "from torch.utils.data import Dataset\n",
    "from sklearn.model_selection import train_test_split\n",
    "from transformers import TrainingArguments\n",
    "from transformers import Trainer\n",
    "from sklearn.metrics import accuracy_score, precision_recall_fscore_support\n",
    "import time\n",
    "from datetime import timedelta\n",
    "import matplotlib.pyplot as plt\n",
    "from typing import Dict, List\n",
    "import numpy as np\n",
    "from sklearn.utils.class_weight import compute_class_weight\n",
    "from sklearn.metrics import confusion_matrix\n",
    "import seaborn as sns\n",
    "from sklearn.metrics import classification_report\n"
   ]
  },
  {
   "cell_type": "code",
   "execution_count": 2,
   "metadata": {},
   "outputs": [
    {
     "name": "stdout",
     "output_type": "stream",
     "text": [
      "2.5.1+cu118\n",
      "True\n",
      "NVIDIA GeForce RTX 3070 Ti\n"
     ]
    }
   ],
   "source": [
    "# Let's first check if we are using my GPU\n",
    "print(torch.__version__)          \n",
    "print(torch.cuda.is_available()) \n",
    "print(torch.cuda.get_device_name(0))  \n",
    "\n",
    "# Set device to GPU if available\n",
    "device = torch.device('cuda' if torch.cuda.is_available() else 'cpu')\n"
   ]
  },
  {
   "cell_type": "code",
   "execution_count": 3,
   "metadata": {},
   "outputs": [],
   "source": [
    "# Load ProsusAI FinBERT tokenizer and model (3 labels)\n",
    "tokenizer = AutoTokenizer.from_pretrained(\"ProsusAI/finbert\")\n",
    "model = AutoModelForSequenceClassification.from_pretrained(\"ProsusAI/finbert\", num_labels=3)\n",
    "model = model.to(device)\n"
   ]
  },
  {
   "cell_type": "markdown",
   "metadata": {},
   "source": [
    "### Step 2: Prepare the Annotated Dataset for Tokenization"
   ]
  },
  {
   "cell_type": "code",
   "execution_count": 5,
   "metadata": {},
   "outputs": [
    {
     "name": "stdout",
     "output_type": "stream",
     "text": [
      "                                                text  sentiment_label\n",
      "0  trading 212 wont give this retard an account s...                0\n",
      "1  theyre saying we throttled but were higher avg...                0\n",
      "2  weed bet im holding for the next few months $A...                2\n",
      "3                                       fuvk you all                0\n",
      "4  cashapp jusr let me buy the fucking amc dip it...                1\n"
     ]
    }
   ],
   "source": [
    "# Load annotated dataset\n",
    "data = pd.read_csv(\"cleaned_labeled_data.csv\")\n",
    "\n",
    "# Inspect the first few rows\n",
    "print(data.head())"
   ]
  },
  {
   "cell_type": "code",
   "execution_count": 6,
   "metadata": {},
   "outputs": [
    {
     "name": "stdout",
     "output_type": "stream",
     "text": [
      "Label distribution:\n",
      "sentiment_label\n",
      "2    710\n",
      "1    668\n",
      "0    403\n",
      "Name: count, dtype: int64\n",
      "\n",
      "Percentage distribution:\n",
      "sentiment_label\n",
      "2    39.865244\n",
      "1    37.507019\n",
      "0    22.627737\n",
      "Name: proportion, dtype: float64\n"
     ]
    }
   ],
   "source": [
    "# See label distribution\n",
    "print(\"Label distribution:\")\n",
    "print(data['sentiment_label'].value_counts())\n",
    "print(\"\\nPercentage distribution:\")\n",
    "print(data['sentiment_label'].value_counts(normalize=True) * 100)"
   ]
  },
  {
   "cell_type": "code",
   "execution_count": 7,
   "metadata": {},
   "outputs": [
    {
     "name": "stdout",
     "output_type": "stream",
     "text": [
      "Data tokenized successfully!\n"
     ]
    }
   ],
   "source": [
    "# Tokenize the text\n",
    "def tokenize_data(texts, labels):\n",
    "    encodings = tokenizer(\n",
    "        texts, truncation=True, padding=True, max_length=512, return_tensors=\"pt\"\n",
    "    )\n",
    "    return encodings, torch.tensor(labels)\n",
    "\n",
    "# Extract texts and labels\n",
    "texts = data[\"text\"].tolist()\n",
    "labels = data[\"sentiment_label\"].tolist()\n",
    "\n",
    "# Tokenize the dataset\n",
    "encodings, labels = tokenize_data(texts, labels)\n",
    "\n",
    "print(\"Data tokenized successfully!\")"
   ]
  },
  {
   "cell_type": "code",
   "execution_count": 8,
   "metadata": {},
   "outputs": [
    {
     "name": "stdout",
     "output_type": "stream",
     "text": [
      "Class weights: [1.46051282 0.91106846 0.82122261]\n",
      "Data successfully split into training and validation sets!\n"
     ]
    }
   ],
   "source": [
    "# Train-test split\n",
    "train_texts, val_texts, train_labels, val_labels = train_test_split(\n",
    "    texts, labels, test_size=0.2, random_state=42\n",
    ")\n",
    "# Class weights using  training labels\n",
    "train_labels_array = np.array(train_labels)\n",
    "class_weights = compute_class_weight(\n",
    "    'balanced',\n",
    "    classes=np.array([0, 1, 2]), \n",
    "    y=train_labels_array\n",
    ")\n",
    "\n",
    "print(\"Class weights:\", class_weights)\n",
    "class_weights = torch.FloatTensor(class_weights).to(device)\n",
    "\n",
    "\n",
    "# Tokenize training and validation sets\n",
    "train_encodings = tokenizer(train_texts, truncation=True, padding=True, max_length=512)\n",
    "val_encodings = tokenizer(val_texts, truncation=True, padding=True, max_length=512)\n",
    "\n",
    "print(\"Data successfully split into training and validation sets!\")"
   ]
  },
  {
   "cell_type": "code",
   "execution_count": 9,
   "metadata": {},
   "outputs": [
    {
     "name": "stdout",
     "output_type": "stream",
     "text": [
      "Datasets are ready!\n"
     ]
    }
   ],
   "source": [
    "# Create a dataset class\n",
    "class SentimentDataset(Dataset):\n",
    "    def __init__(self, encodings, labels):\n",
    "        self.encodings = encodings\n",
    "        self.labels = labels\n",
    "\n",
    "    def __len__(self):\n",
    "        return len(self.labels)\n",
    "\n",
    "    def __getitem__(self, idx):\n",
    "        item = {key: torch.tensor(val[idx]).to(device) for key, val in self.encodings.items()}\n",
    "        item[\"labels\"] = torch.tensor(self.labels[idx]).to(device)\n",
    "        return item\n",
    "\n",
    "# Create training and validation datasets\n",
    "train_dataset = SentimentDataset(train_encodings, train_labels)\n",
    "val_dataset = SentimentDataset(val_encodings, val_labels)\n",
    "\n",
    "print(\"Datasets are ready!\")"
   ]
  },
  {
   "cell_type": "markdown",
   "metadata": {},
   "source": [
    "### Step 3: Define Training Arguments"
   ]
  },
  {
   "cell_type": "code",
   "execution_count": 10,
   "metadata": {},
   "outputs": [
    {
     "name": "stdout",
     "output_type": "stream",
     "text": [
      "Training arguments set up!\n"
     ]
    },
    {
     "name": "stderr",
     "output_type": "stream",
     "text": [
      "c:\\Users\\lukas\\anaconda3\\envs\\DeepLearning311\\lib\\site-packages\\transformers\\training_args.py:1575: FutureWarning: `evaluation_strategy` is deprecated and will be removed in version 4.46 of 🤗 Transformers. Use `eval_strategy` instead\n",
      "  warnings.warn(\n"
     ]
    }
   ],
   "source": [
    "training_args = TrainingArguments(\n",
    "    output_dir=\"./results\",\n",
    "    evaluation_strategy=\"epoch\",     \n",
    "    save_strategy=\"epoch\",          \n",
    "    learning_rate=5e-5,             \n",
    "    per_device_train_batch_size=8,  \n",
    "    num_train_epochs=50,            \n",
    "    weight_decay=0.01,\n",
    "    warmup_ratio=0.2,              \n",
    "    save_total_limit=3,               \n",
    "    logging_dir=\"./logs\",           \n",
    "    logging_steps=10,               \n",
    "    no_cuda=False,                  \n",
    "    fp16=True,\n",
    "    logging_strategy=\"epoch\",\n",
    "    disable_tqdm=True, \n",
    "    # Add learning rate scheduler settings\n",
    "    lr_scheduler_type=\"reduce_lr_on_plateau\",\n",
    "    metric_for_best_model=\"eval_loss\",\n",
    "    greater_is_better=False,        \n",
    "    load_best_model_at_end=True,    \n",
    "    max_grad_norm=1.0\n",
    ")\n",
    "\n",
    "print(\"Training arguments set up!\")"
   ]
  },
  {
   "cell_type": "code",
   "execution_count": 11,
   "metadata": {},
   "outputs": [],
   "source": [
    "# Create a custom trainer class that uses class weights\n",
    "class CustomTrainer(Trainer):\n",
    "    def __init__(self, class_weights, *args, **kwargs):\n",
    "        super().__init__(*args, **kwargs)\n",
    "        self.class_weights = class_weights\n",
    "\n",
    "    def compute_loss(self, model, inputs, return_outputs=False, num_items_in_batch=None):\n",
    "        labels = inputs.pop(\"labels\")\n",
    "        outputs = model(**inputs)\n",
    "        logits = outputs.logits\n",
    "        \n",
    "        # Apply class weights to the loss\n",
    "        loss_fct = torch.nn.CrossEntropyLoss(weight=self.class_weights)\n",
    "        loss = loss_fct(logits.view(-1, self.model.config.num_labels), labels.view(-1))\n",
    "        \n",
    "        return (loss, outputs) if return_outputs else loss"
   ]
  },
  {
   "cell_type": "markdown",
   "metadata": {},
   "source": [
    "### Step 4: Initialize the Trainer\n"
   ]
  },
  {
   "cell_type": "code",
   "execution_count": 12,
   "metadata": {},
   "outputs": [
    {
     "name": "stdout",
     "output_type": "stream",
     "text": [
      "Trainer initialized successfully!\n"
     ]
    },
    {
     "name": "stderr",
     "output_type": "stream",
     "text": [
      "C:\\Users\\lukas\\AppData\\Local\\Temp\\ipykernel_15740\\3592411705.py:4: FutureWarning: `tokenizer` is deprecated and will be removed in version 5.0.0 for `CustomTrainer.__init__`. Use `processing_class` instead.\n",
      "  super().__init__(*args, **kwargs)\n"
     ]
    }
   ],
   "source": [
    "# Initialize the custom trainer\n",
    "trainer = CustomTrainer(\n",
    "    class_weights=class_weights,\n",
    "    model=model,\n",
    "    args=training_args,\n",
    "    train_dataset=train_dataset,\n",
    "    eval_dataset=val_dataset,\n",
    "    tokenizer=tokenizer,\n",
    "    callbacks=[EarlyStoppingCallback(early_stopping_patience=5)] \n",
    ")\n",
    "\n",
    "print(\"Trainer initialized successfully!\")"
   ]
  },
  {
   "cell_type": "markdown",
   "metadata": {},
   "source": [
    "### Step 5: Fine-Tune the Model\n"
   ]
  },
  {
   "cell_type": "code",
   "execution_count": 13,
   "metadata": {},
   "outputs": [
    {
     "name": "stdout",
     "output_type": "stream",
     "text": [
      "Current GPU memory usage: 418.74 MB\n"
     ]
    },
    {
     "name": "stderr",
     "output_type": "stream",
     "text": [
      "C:\\Users\\lukas\\AppData\\Local\\Temp\\ipykernel_15740\\365778475.py:11: UserWarning: To copy construct from a tensor, it is recommended to use sourceTensor.clone().detach() or sourceTensor.clone().detach().requires_grad_(True), rather than torch.tensor(sourceTensor).\n",
      "  item[\"labels\"] = torch.tensor(self.labels[idx]).to(device)\n"
     ]
    },
    {
     "name": "stdout",
     "output_type": "stream",
     "text": [
      "{'loss': 1.0429, 'grad_norm': 15.46470832824707, 'learning_rate': 5e-05, 'epoch': 1.0}\n",
      "{'eval_loss': 0.9128734469413757, 'eval_runtime': 1.5916, 'eval_samples_per_second': 224.309, 'eval_steps_per_second': 28.274, 'epoch': 1.0}\n"
     ]
    },
    {
     "name": "stderr",
     "output_type": "stream",
     "text": [
      "C:\\Users\\lukas\\AppData\\Local\\Temp\\ipykernel_15740\\365778475.py:11: UserWarning: To copy construct from a tensor, it is recommended to use sourceTensor.clone().detach() or sourceTensor.clone().detach().requires_grad_(True), rather than torch.tensor(sourceTensor).\n",
      "  item[\"labels\"] = torch.tensor(self.labels[idx]).to(device)\n"
     ]
    },
    {
     "name": "stdout",
     "output_type": "stream",
     "text": [
      "{'loss': 0.752, 'grad_norm': 8.97850513458252, 'learning_rate': 5e-05, 'epoch': 2.0}\n",
      "{'eval_loss': 0.8748406767845154, 'eval_runtime': 1.5374, 'eval_samples_per_second': 232.211, 'eval_steps_per_second': 29.27, 'epoch': 2.0}\n"
     ]
    },
    {
     "name": "stderr",
     "output_type": "stream",
     "text": [
      "C:\\Users\\lukas\\AppData\\Local\\Temp\\ipykernel_15740\\365778475.py:11: UserWarning: To copy construct from a tensor, it is recommended to use sourceTensor.clone().detach() or sourceTensor.clone().detach().requires_grad_(True), rather than torch.tensor(sourceTensor).\n",
      "  item[\"labels\"] = torch.tensor(self.labels[idx]).to(device)\n"
     ]
    },
    {
     "name": "stdout",
     "output_type": "stream",
     "text": [
      "{'loss': 0.4479, 'grad_norm': 42.23569869995117, 'learning_rate': 5e-05, 'epoch': 3.0}\n",
      "{'eval_loss': 1.2848297357559204, 'eval_runtime': 1.542, 'eval_samples_per_second': 231.511, 'eval_steps_per_second': 29.182, 'epoch': 3.0}\n"
     ]
    },
    {
     "name": "stderr",
     "output_type": "stream",
     "text": [
      "C:\\Users\\lukas\\AppData\\Local\\Temp\\ipykernel_15740\\365778475.py:11: UserWarning: To copy construct from a tensor, it is recommended to use sourceTensor.clone().detach() or sourceTensor.clone().detach().requires_grad_(True), rather than torch.tensor(sourceTensor).\n",
      "  item[\"labels\"] = torch.tensor(self.labels[idx]).to(device)\n"
     ]
    },
    {
     "name": "stdout",
     "output_type": "stream",
     "text": [
      "{'loss': 0.3025, 'grad_norm': 9.466876029968262, 'learning_rate': 5e-05, 'epoch': 4.0}\n",
      "{'eval_loss': 1.670668601989746, 'eval_runtime': 1.5388, 'eval_samples_per_second': 231.994, 'eval_steps_per_second': 29.243, 'epoch': 4.0}\n"
     ]
    },
    {
     "name": "stderr",
     "output_type": "stream",
     "text": [
      "C:\\Users\\lukas\\AppData\\Local\\Temp\\ipykernel_15740\\365778475.py:11: UserWarning: To copy construct from a tensor, it is recommended to use sourceTensor.clone().detach() or sourceTensor.clone().detach().requires_grad_(True), rather than torch.tensor(sourceTensor).\n",
      "  item[\"labels\"] = torch.tensor(self.labels[idx]).to(device)\n"
     ]
    },
    {
     "name": "stdout",
     "output_type": "stream",
     "text": [
      "{'loss': 0.1435, 'grad_norm': 0.08020453155040741, 'learning_rate': 5e-05, 'epoch': 5.0}\n",
      "{'eval_loss': 2.087724208831787, 'eval_runtime': 1.5357, 'eval_samples_per_second': 232.469, 'eval_steps_per_second': 29.303, 'epoch': 5.0}\n"
     ]
    },
    {
     "name": "stderr",
     "output_type": "stream",
     "text": [
      "C:\\Users\\lukas\\AppData\\Local\\Temp\\ipykernel_15740\\365778475.py:11: UserWarning: To copy construct from a tensor, it is recommended to use sourceTensor.clone().detach() or sourceTensor.clone().detach().requires_grad_(True), rather than torch.tensor(sourceTensor).\n",
      "  item[\"labels\"] = torch.tensor(self.labels[idx]).to(device)\n"
     ]
    },
    {
     "name": "stdout",
     "output_type": "stream",
     "text": [
      "{'loss': 0.0978, 'grad_norm': 0.007813381031155586, 'learning_rate': 5e-05, 'epoch': 6.0}\n",
      "{'eval_loss': 2.87031888961792, 'eval_runtime': 1.5844, 'eval_samples_per_second': 225.315, 'eval_steps_per_second': 28.401, 'epoch': 6.0}\n"
     ]
    },
    {
     "name": "stderr",
     "output_type": "stream",
     "text": [
      "C:\\Users\\lukas\\AppData\\Local\\Temp\\ipykernel_15740\\365778475.py:11: UserWarning: To copy construct from a tensor, it is recommended to use sourceTensor.clone().detach() or sourceTensor.clone().detach().requires_grad_(True), rather than torch.tensor(sourceTensor).\n",
      "  item[\"labels\"] = torch.tensor(self.labels[idx]).to(device)\n"
     ]
    },
    {
     "name": "stdout",
     "output_type": "stream",
     "text": [
      "{'loss': 0.0587, 'grad_norm': 0.019011475145816803, 'learning_rate': 5e-05, 'epoch': 7.0}\n",
      "{'eval_loss': 2.2888433933258057, 'eval_runtime': 1.5074, 'eval_samples_per_second': 236.827, 'eval_steps_per_second': 29.852, 'epoch': 7.0}\n",
      "{'train_runtime': 187.0518, 'train_samples_per_second': 380.643, 'train_steps_per_second': 47.58, 'train_loss': 0.40647965640929884, 'epoch': 7.0}\n",
      "Model fine-tuning complete!\n",
      "Max GPU memory usage: 3143.49 MB\n",
      "Training time: 0:03:07\n",
      "Training time in minutes: 3.12\n"
     ]
    }
   ],
   "source": [
    "# See GPU usage\n",
    "print(f\"Current GPU memory usage: {torch.cuda.memory_allocated()/1024**2:.2f} MB\")\n",
    "\n",
    "# Start timing\n",
    "start_time = time.time()\n",
    "\n",
    "# Begin fine-tuning\n",
    "trainer.train()\n",
    "\n",
    "# End timing\n",
    "end_time = time.time()\n",
    "training_time = end_time - start_time\n",
    "\n",
    "print(\"Model fine-tuning complete!\")\n",
    "print(f\"Max GPU memory usage: {torch.cuda.max_memory_allocated()/1024**2:.2f} MB\")\n",
    "print(f\"Training time: {timedelta(seconds=int(training_time))}\")\n",
    "print(f\"Training time in minutes: {training_time/60:.2f}\")"
   ]
  },
  {
   "cell_type": "markdown",
   "metadata": {},
   "source": [
    "### Step 6: Evaluate the Model on Validation Data"
   ]
  },
  {
   "cell_type": "code",
   "execution_count": 14,
   "metadata": {},
   "outputs": [
    {
     "name": "stderr",
     "output_type": "stream",
     "text": [
      "C:\\Users\\lukas\\AppData\\Local\\Temp\\ipykernel_15740\\365778475.py:11: UserWarning: To copy construct from a tensor, it is recommended to use sourceTensor.clone().detach() or sourceTensor.clone().detach().requires_grad_(True), rather than torch.tensor(sourceTensor).\n",
      "  item[\"labels\"] = torch.tensor(self.labels[idx]).to(device)\n"
     ]
    },
    {
     "name": "stdout",
     "output_type": "stream",
     "text": [
      "Accuracy: 0.6331\n",
      "Precision: 0.6328\n",
      "Recall: 0.6331\n",
      "F1 Score: 0.6329\n"
     ]
    }
   ],
   "source": [
    "# Get predictions on the validation dataset\n",
    "predictions = trainer.predict(val_dataset)\n",
    "\n",
    "# Extract predicted labels\n",
    "preds = torch.argmax(torch.tensor(predictions.predictions), axis=1)\n",
    "\n",
    "# Calculate metrics\n",
    "accuracy = accuracy_score(val_labels, preds)\n",
    "precision, recall, f1, _ = precision_recall_fscore_support(val_labels, preds, average=\"weighted\")\n",
    "\n",
    "# Print evaluation results\n",
    "print(f\"Accuracy: {accuracy:.4f}\")\n",
    "print(f\"Precision: {precision:.4f}\")\n",
    "print(f\"Recall: {recall:.4f}\")\n",
    "print(f\"F1 Score: {f1:.4f}\")"
   ]
  },
  {
   "cell_type": "markdown",
   "metadata": {},
   "source": [
    "### Step 7: Save the Model & Confusion matrix"
   ]
  },
  {
   "cell_type": "code",
   "execution_count": 19,
   "metadata": {},
   "outputs": [
    {
     "name": "stdout",
     "output_type": "stream",
     "text": [
      "Fine-tuned model and tokenizer saved successfully!\n"
     ]
    }
   ],
   "source": [
    "# Save the fine-tuned model and tokenizer\n",
    "model.save_pretrained(\"./fine_tuned_finbert_best\")\n",
    "tokenizer.save_pretrained(\"./fine_tuned_finbert_best\")\n",
    "\n",
    "print(\"Fine-tuned model and tokenizer saved successfully!\")\n"
   ]
  },
  {
   "cell_type": "code",
   "execution_count": 18,
   "metadata": {},
   "outputs": [
    {
     "name": "stderr",
     "output_type": "stream",
     "text": [
      "C:\\Users\\lukas\\AppData\\Local\\Temp\\ipykernel_15740\\365778475.py:11: UserWarning: To copy construct from a tensor, it is recommended to use sourceTensor.clone().detach() or sourceTensor.clone().detach().requires_grad_(True), rather than torch.tensor(sourceTensor).\n",
      "  item[\"labels\"] = torch.tensor(self.labels[idx]).to(device)\n"
     ]
    },
    {
     "data": {
      "image/png": "[encoded data removed]",
      "text/plain": [
       "<Figure size 1000x800 with 2 Axes>"
      ]
     },
     "metadata": {},
     "output_type": "display_data"
    },
    {
     "name": "stdout",
     "output_type": "stream",
     "text": [
      "\n",
      "Classification Report:\n",
      "              precision    recall  f1-score   support\n",
      "\n",
      "    Negative       0.60      0.58      0.59        78\n",
      "     Neutral       0.61      0.62      0.61       147\n",
      "    Positive       0.68      0.68      0.68       132\n",
      "\n",
      "    accuracy                           0.63       357\n",
      "   macro avg       0.63      0.63      0.63       357\n",
      "weighted avg       0.63      0.63      0.63       357\n",
      "\n"
     ]
    }
   ],
   "source": [
    "# Get predictions and create confusion matrix\n",
    "predictions = trainer.predict(val_dataset)\n",
    "preds = torch.argmax(torch.tensor(predictions.predictions), axis=1)\n",
    "cm = confusion_matrix(val_labels, preds)\n",
    "\n",
    "# Create labels for the plot\n",
    "labels = ['Negative', 'Neutral', 'Positive']\n",
    "\n",
    "# Create heatmap\n",
    "plt.figure(figsize=(10, 8))\n",
    "sns.heatmap(cm, \n",
    "            annot=True, \n",
    "            fmt='d', \n",
    "            cmap='Blues',\n",
    "            xticklabels=labels,\n",
    "            yticklabels=labels)\n",
    "plt.title('Confusion Matrix')\n",
    "plt.ylabel('True Label')\n",
    "plt.xlabel('Predicted Label')\n",
    "plt.show()\n",
    "\n",
    "# Print classification report for more detailed metrics\n",
    "print(\"\\nClassification Report:\")\n",
    "print(classification_report(val_labels, preds, target_names=labels))"
   ]
  },
  {
   "cell_type": "markdown",
   "metadata": {},
   "source": [
    "### Step 8: Inference"
   ]
  },
  {
   "cell_type": "markdown",
   "metadata": {},
   "source": [
    "Last step is predicting the sentiment on the unlabeled data, and then saving the results to a csv file."
   ]
  },
  {
   "cell_type": "code",
   "execution_count": 4,
   "metadata": {},
   "outputs": [
    {
     "name": "stdout",
     "output_type": "stream",
     "text": [
      "Starting sentiment prediction...\n",
      "\n",
      "Sample of results:\n",
      "                                                text sentiment\n",
      "0  It's not about the money, it's about sending a...  positive\n",
      "1  Math Professor Scott Steiner says the numbers ...   neutral\n",
      "2  Exit the system The CEO of NASDAQ pushed to ha...   neutral\n",
      "3  NEW SEC FILING FOR GME! CAN SOMEONE LESS RETAR...   neutral\n",
      "4  Not to distract from GME, just thought our AMC...   neutral\n",
      "\n",
      "Sentiment distribution:\n",
      "sentiment\n",
      "neutral     23383\n",
      "positive    16959\n",
      "negative    10874\n",
      "Name: count, dtype: int64\n"
     ]
    }
   ],
   "source": [
    "from transformers import AutoModelForSequenceClassification, AutoTokenizer\n",
    "import torch\n",
    "import pandas as pd\n",
    "\n",
    "# Set device\n",
    "device = torch.device('cuda' if torch.cuda.is_available() else 'cpu')\n",
    "\n",
    "# Load the saved model and tokenizer\n",
    "model_path = \"./fine_tuned_finbert_best\"\n",
    "model = AutoModelForSequenceClassification.from_pretrained(model_path)\n",
    "tokenizer = AutoTokenizer.from_pretrained(model_path)\n",
    "model = model.to(device)\n",
    "model.eval()\n",
    "\n",
    "# Function to predict sentiment\n",
    "def predict_sentiment(text):\n",
    "    inputs = tokenizer(text, return_tensors=\"pt\", truncation=True, max_length=512).to(device)\n",
    "    with torch.no_grad():\n",
    "        outputs = model(**inputs)\n",
    "        predictions = torch.nn.functional.softmax(outputs.logits, dim=-1)\n",
    "        predicted_label = torch.argmax(predictions, dim=1).item()\n",
    "    label_map = {0: \"negative\", 1: \"neutral\", 2: \"positive\"}\n",
    "    return label_map[predicted_label]\n",
    "\n",
    "# Read dataset\n",
    "df = pd.read_csv('cleaned_unlabeled.csv')\n",
    "\n",
    "# Add sentiment predictions as a new column\n",
    "print(\"Starting sentiment prediction...\")\n",
    "df['sentiment'] = df['text'].apply(predict_sentiment)\n",
    "\n",
    "# Save the updated dataset\n",
    "df.to_csv('cleaned_unlabeled_with_sentiment.csv', index=False)\n",
    "\n",
    "# Sample of results\n",
    "print(\"\\nSample of results:\")\n",
    "print(df[['text', 'sentiment']].head())\n",
    "\n",
    "# Sentiment distribution\n",
    "print(\"\\nSentiment distribution:\")\n",
    "print(df['sentiment'].value_counts())"
   ]
  },
  {
   "cell_type": "code",
   "execution_count": null,
   "metadata": {},
   "outputs": [],
   "source": []
  }
 ],
 "metadata": {
  "kernelspec": {
   "display_name": "DeepLearning",
   "language": "python",
   "name": "python3"
  },
  "language_info": {
   "codemirror_mode": {
    "name": "ipython",
    "version": 3
   },
   "file_extension": ".py",
   "mimetype": "text/x-python",
   "name": "python",
   "nbconvert_exporter": "python",
   "pygments_lexer": "ipython3",
   "version": "3.10.16"
  }
 },
 "nbformat": 4,
 "nbformat_minor": 2
}
