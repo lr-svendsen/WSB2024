{
 "cells": [
  {
   "cell_type": "markdown",
   "metadata": {},
   "source": [
    "# Retrieving top 10 stock data from WSB"
   ]
  },
  {
   "cell_type": "markdown",
   "metadata": {},
   "source": [
    "In this ipynb file, we simply gather the stock data for the top 10 most mentioned stocks in the dataset.\n",
    "<br />\n",
    "FYI, the sentiment model and entity recognition are basis for getting the top 10 most mentioned stocks. "
   ]
  },
  {
   "cell_type": "code",
   "execution_count": 2,
   "metadata": {},
   "outputs": [],
   "source": [
    "# These are the top 10 most mentioned stocks in the dataset.\n",
    "stocks_tickers = [\n",
    "    (\"GME\", 13717),\n",
    "    (\"AMC\", 4872),\n",
    "    (\"BB\", 2119),\n",
    "    (\"TSLA\", 1023),\n",
    "    (\"PLTR\", 873),\n",
    "    (\"AMZN\", 520),\n",
    "    (\"AAPL\", 505),\n",
    "    (\"SNDL\", 380),\n",
    "    (\"F\", 372),\n",
    "    (\"AMD\", 347)\n",
    "]"
   ]
  },
  {
   "cell_type": "code",
   "execution_count": 3,
   "metadata": {},
   "outputs": [
    {
     "data": {
      "text/plain": [
       "['GME', 'AMC', 'BB', 'TSLA', 'PLTR', 'AMZN', 'AAPL', 'SNDL', 'F', 'AMD']"
      ]
     },
     "execution_count": 3,
     "metadata": {},
     "output_type": "execute_result"
    }
   ],
   "source": [
    "# We simply need the tickers\n",
    "stocks_tickers = [ticker for ticker, _ in stocks_tickers]\n",
    "stocks_tickers"
   ]
  },
  {
   "cell_type": "code",
   "execution_count": 4,
   "metadata": {},
   "outputs": [
    {
     "name": "stdout",
     "output_type": "stream",
     "text": [
      "Fetching stock data from 2020-09-01 to 2021-09-01\n",
      "Fetching data for GME...\n"
     ]
    },
    {
     "name": "stderr",
     "output_type": "stream",
     "text": [
      "[*********************100%***********************]  1 of 1 completed\n"
     ]
    },
    {
     "name": "stdout",
     "output_type": "stream",
     "text": [
      "Successfully retrieved 252 days of data for GME\n",
      "Fetching data for AMC...\n"
     ]
    },
    {
     "name": "stderr",
     "output_type": "stream",
     "text": [
      "[*********************100%***********************]  1 of 1 completed\n"
     ]
    },
    {
     "name": "stdout",
     "output_type": "stream",
     "text": [
      "Successfully retrieved 252 days of data for AMC\n",
      "Fetching data for BB...\n"
     ]
    },
    {
     "name": "stderr",
     "output_type": "stream",
     "text": [
      "[*********************100%***********************]  1 of 1 completed\n"
     ]
    },
    {
     "name": "stdout",
     "output_type": "stream",
     "text": [
      "Successfully retrieved 252 days of data for BB\n",
      "Fetching data for TSLA...\n"
     ]
    },
    {
     "name": "stderr",
     "output_type": "stream",
     "text": [
      "[*********************100%***********************]  1 of 1 completed\n"
     ]
    },
    {
     "name": "stdout",
     "output_type": "stream",
     "text": [
      "Successfully retrieved 252 days of data for TSLA\n",
      "Fetching data for PLTR...\n"
     ]
    },
    {
     "name": "stderr",
     "output_type": "stream",
     "text": [
      "[*********************100%***********************]  1 of 1 completed\n"
     ]
    },
    {
     "name": "stdout",
     "output_type": "stream",
     "text": [
      "Successfully retrieved 232 days of data for PLTR\n",
      "Fetching data for AMZN...\n"
     ]
    },
    {
     "name": "stderr",
     "output_type": "stream",
     "text": [
      "[*********************100%***********************]  1 of 1 completed\n"
     ]
    },
    {
     "name": "stdout",
     "output_type": "stream",
     "text": [
      "Successfully retrieved 252 days of data for AMZN\n",
      "Fetching data for AAPL...\n"
     ]
    },
    {
     "name": "stderr",
     "output_type": "stream",
     "text": [
      "[*********************100%***********************]  1 of 1 completed\n"
     ]
    },
    {
     "name": "stdout",
     "output_type": "stream",
     "text": [
      "Successfully retrieved 252 days of data for AAPL\n",
      "Fetching data for SNDL...\n"
     ]
    },
    {
     "name": "stderr",
     "output_type": "stream",
     "text": [
      "[*********************100%***********************]  1 of 1 completed\n"
     ]
    },
    {
     "name": "stdout",
     "output_type": "stream",
     "text": [
      "Successfully retrieved 252 days of data for SNDL\n",
      "Fetching data for F...\n"
     ]
    },
    {
     "name": "stderr",
     "output_type": "stream",
     "text": [
      "[*********************100%***********************]  1 of 1 completed\n"
     ]
    },
    {
     "name": "stdout",
     "output_type": "stream",
     "text": [
      "Successfully retrieved 252 days of data for F\n",
      "Fetching data for AMD...\n"
     ]
    },
    {
     "name": "stderr",
     "output_type": "stream",
     "text": [
      "[*********************100%***********************]  1 of 1 completed"
     ]
    },
    {
     "name": "stdout",
     "output_type": "stream",
     "text": [
      "Successfully retrieved 252 days of data for AMD\n",
      "Saved stock prices to stock_prices.csv\n"
     ]
    },
    {
     "name": "stderr",
     "output_type": "stream",
     "text": [
      "\n"
     ]
    }
   ],
   "source": [
    "# Next utilising yfinance, we download daily stock data for each of the 10 tickrs\n",
    "import yfinance as yf\n",
    "import pandas as pd\n",
    "import time\n",
    "\n",
    "# Use the specified date range\n",
    "start_date = \"2020-09-01\"\n",
    "end_date = \"2021-09-01\"\n",
    "\n",
    "print(f\"Fetching stock data from {start_date} to {end_date}\")\n",
    "\n",
    "# Create empty DataFrame with dates as index\n",
    "combined_stock_data = pd.DataFrame()\n",
    "\n",
    "# Get data for each ticker\n",
    "for ticker in stocks_tickers:\n",
    "    try:\n",
    "        print(f\"Fetching data for {ticker}...\")\n",
    "        # Add small delay\n",
    "        time.sleep(1)\n",
    "        \n",
    "        # Download stock data (only adjusted close)\n",
    "        stock = yf.download(ticker, start=start_date, end=end_date)['Adj Close']\n",
    "        \n",
    "        # Add the stock prices as a new column\n",
    "        if not stock.empty:\n",
    "            combined_stock_data[ticker] = stock\n",
    "            print(f\"Successfully retrieved {len(stock)} days of data for {ticker}\")\n",
    "        else:\n",
    "            print(f\"No data found for {ticker}\")\n",
    "            \n",
    "    except Exception as e:\n",
    "        print(f\"Error fetching data for {ticker}: {str(e)}\")\n",
    "\n",
    "# Save combined data\n",
    "combined_stock_data.to_csv('stock_prices.csv')\n",
    "print(\"Saved stock prices to stock_prices.csv\")"
   ]
  }
 ],
 "metadata": {
  "kernelspec": {
   "display_name": "PyTorch",
   "language": "python",
   "name": "python3"
  },
  "language_info": {
   "codemirror_mode": {
    "name": "ipython",
    "version": 3
   },
   "file_extension": ".py",
   "mimetype": "text/x-python",
   "name": "python",
   "nbconvert_exporter": "python",
   "pygments_lexer": "ipython3",
   "version": "3.11.11"
  }
 },
 "nbformat": 4,
 "nbformat_minor": 2
}
